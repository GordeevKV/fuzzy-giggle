{
 "cells": [
  {
   "cell_type": "markdown",
   "metadata": {},
   "source": [
    "###ML1_1: https://www.hackerrank.com/challenges/capturing-non-capturing-groups/problem?isFullScreen=true"
   ]
  },
  {
   "cell_type": "code",
   "execution_count": 13,
   "metadata": {},
   "outputs": [
    {
     "name": "stdout",
     "output_type": "stream",
     "text": [
      "Совпадение найдено: okokok\n"
     ]
    }
   ],
   "source": [
    "import re  # Импортируем модуль для работы с регулярными выражениями\n",
    "\n",
    "# Определяем регулярное выражение\n",
    "pattern = r\"(ok){2,}\"\n",
    "\n",
    "# Тестовая строка\n",
    "test_string = \"okokok\"\n",
    "\n",
    "# Ищем соответствие регулярному выражению в тестовой строке\n",
    "match = re.search(pattern, test_string)\n",
    "\n",
    "# Если нашли совпадение, выводим его\n",
    "if match:\n",
    "    print(\"Совпадение найдено:\", match.group())\n",
    "else:\n",
    "    print(\"Совпадение не найдено\")\n"
   ]
  },
  {
   "cell_type": "markdown",
   "metadata": {},
   "source": [
    "###ML1_2: https://www.hackerrank.com/challenges/branch-reset-groups/problem?isFullScreen=true"
   ]
  },
  {
   "cell_type": "code",
   "execution_count": 14,
   "metadata": {},
   "outputs": [
    {
     "name": "stdout",
     "output_type": "stream",
     "text": [
      "Строка '12-34-56-78' верна\n",
      "Строка '12:34:56:78' верна\n",
      "Строка '12---34---56---78' верна\n",
      "Строка '12.34.56.78' верна\n",
      "Строка '1-234-56-78' не соответствует шаблону\n",
      "Строка '12-45.78:10' верна\n"
     ]
    }
   ],
   "source": [
    "import re\n",
    "\n",
    "# Определяем регулярное выражение\n",
    "pattern = r\"^\\d{2}(?:(---|-|:|\\.)\\d{2}){3}$\"\n",
    "\n",
    "# Примеры тестовых строк\n",
    "test_strings = [\n",
    "    \"12-34-56-78\",\n",
    "    \"12:34:56:78\",\n",
    "    \"12---34---56---78\",\n",
    "    \"12.34.56.78\",\n",
    "    \"1-234-56-78\",\n",
    "    \"12-45.78:10\"\n",
    "]\n",
    "\n",
    "# Проверяем каждую строку\n",
    "for s in test_strings:\n",
    "    match = re.match(pattern, s)\n",
    "    if match:\n",
    "        print(f\"Строка '{s}' верна\")\n",
    "    else:\n",
    "        print(f\"Строка '{s}' не соответствует шаблону\")\n"
   ]
  },
  {
   "cell_type": "markdown",
   "metadata": {},
   "source": [
    "###ML1_3: https://www.hackerrank.com/challenges/detect-html-links/problem?isFullScreen=true"
   ]
  },
  {
   "cell_type": "code",
   "execution_count": 15,
   "metadata": {},
   "outputs": [
    {
     "name": "stdin",
     "output_type": "stream",
     "text": [
      " 13\n",
      " <div class=\"portal\" role=\"navigation\" id='p-navigation'>\n",
      " <h3>Navigation</h3>\n",
      " <div class=\"body\">\n",
      " <ul>\n",
      " <li id=\"n-mainpage-description\"><a href=\"/wiki/Main_Page\" title=\"Visit the main page [z]\" accesskey=\"z\">Main page</a></li>\n",
      " <li id=\"n-contents\"><a href=\"/wiki/Portal:Contents\" title=\"Guides to browsing Wikipedia\">Contents</a></li>\n",
      " <li id=\"n-featuredcontent\"><a href=\"/wiki/Portal:Featured_content\" title=\"Featured content  the best of Wikipedia\">Featured content</a></li>\n",
      " <li id=\"n-currentevents\"><a href=\"/wiki/Portal:Current_events\" title=\"Find background information on current events\">Current events</a></li>\n",
      " <li id=\"n-randompage\"><a href=\"/wiki/Special:Random\" title=\"Load a random article [x]\" accesskey=\"x\">Random article</a></li>\n",
      " <li id=\"n-sitesupport\"><a href=\"//donate.wikimedia.org/wiki/Special:FundraiserRedirector?utm_source=donate&utm_medium=sidebar&utm_campaign=C13_en.wikipedia.org&uselang=en\" title=\"Support us\">Donate to Wikipedia</a></li>\n",
      " </ul>\n",
      " </div>\n",
      " </div>\n"
     ]
    },
    {
     "name": "stdout",
     "output_type": "stream",
     "text": [
      "/wiki/Main_Page,Main page\n",
      "/wiki/Portal:Contents,Contents\n",
      "/wiki/Portal:Featured_content,Featured content\n",
      "/wiki/Portal:Current_events,Current events\n",
      "/wiki/Special:Random,Random article\n",
      "//donate.wikimedia.org/wiki/Special:FundraiserRedirector?utm_source=donate&utm_medium=sidebar&utm_campaign=C13_en.wikipedia.org&uselang=en,Donate to Wikipedia\n"
     ]
    }
   ],
   "source": [
    "from bs4 import BeautifulSoup\n",
    "\n",
    "# Считывание входных данных\n",
    "n = int(input())  # Количество строк\n",
    "html = \"\"\n",
    "for _ in range(n):\n",
    "    html += input().strip()\n",
    "\n",
    "# Парсим HTML с помощью BeautifulSoup\n",
    "soup = BeautifulSoup(html, 'html.parser')\n",
    "\n",
    "# Находим все теги <a>\n",
    "links = soup.find_all('a')\n",
    "\n",
    "# Обрабатываем каждый тег <a>\n",
    "for link in links:\n",
    "    href = link.get('href')  # Извлекаем значение атрибута href\n",
    "    text = link.get_text()   # Извлекаем текст внутри тега\n",
    "    href = href.strip()      # Удаляем пробелы вокруг ссылки\n",
    "    text = text.strip()      # Удаляем пробелы вокруг текста\n",
    "    print(f\"{href},{text}\")\n"
   ]
  },
  {
   "cell_type": "markdown",
   "metadata": {},
   "source": [
    "###ML1_4: Реализовать stemming, lemmatization & BoW на следующем датасете: https://cloud.mail.ru/public/Z4L3/vB8GcgTtK (Russian Toxic-abuse comments)"
   ]
  },
  {
   "cell_type": "code",
   "execution_count": 16,
   "metadata": {
    "id": "xJfkstKpqsXp"
   },
   "outputs": [],
   "source": [
    "import pandas as pd"
   ]
  },
  {
   "cell_type": "code",
   "execution_count": 17,
   "metadata": {},
   "outputs": [
    {
     "data": {
      "text/html": [
       "<div>\n",
       "<style scoped>\n",
       "    .dataframe tbody tr th:only-of-type {\n",
       "        vertical-align: middle;\n",
       "    }\n",
       "\n",
       "    .dataframe tbody tr th {\n",
       "        vertical-align: top;\n",
       "    }\n",
       "\n",
       "    .dataframe thead th {\n",
       "        text-align: right;\n",
       "    }\n",
       "</style>\n",
       "<table border=\"1\" class=\"dataframe\">\n",
       "  <thead>\n",
       "    <tr style=\"text-align: right;\">\n",
       "      <th></th>\n",
       "      <th>comment</th>\n",
       "      <th>toxic</th>\n",
       "    </tr>\n",
       "  </thead>\n",
       "  <tbody>\n",
       "    <tr>\n",
       "      <th>0</th>\n",
       "      <td>Верблюдов-то за что? Дебилы, бл...\\n</td>\n",
       "      <td>1.0</td>\n",
       "    </tr>\n",
       "    <tr>\n",
       "      <th>1</th>\n",
       "      <td>Хохлы, это отдушина затюканого россиянина, мол...</td>\n",
       "      <td>1.0</td>\n",
       "    </tr>\n",
       "    <tr>\n",
       "      <th>2</th>\n",
       "      <td>Собаке - собачья смерть\\n</td>\n",
       "      <td>1.0</td>\n",
       "    </tr>\n",
       "    <tr>\n",
       "      <th>3</th>\n",
       "      <td>Страницу обнови, дебил. Это тоже не оскорблени...</td>\n",
       "      <td>1.0</td>\n",
       "    </tr>\n",
       "    <tr>\n",
       "      <th>4</th>\n",
       "      <td>тебя не убедил 6-страничный пдф в том, что Скр...</td>\n",
       "      <td>1.0</td>\n",
       "    </tr>\n",
       "  </tbody>\n",
       "</table>\n",
       "</div>"
      ],
      "text/plain": [
       "                                             comment  toxic\n",
       "0               Верблюдов-то за что? Дебилы, бл...\\n    1.0\n",
       "1  Хохлы, это отдушина затюканого россиянина, мол...    1.0\n",
       "2                          Собаке - собачья смерть\\n    1.0\n",
       "3  Страницу обнови, дебил. Это тоже не оскорблени...    1.0\n",
       "4  тебя не убедил 6-страничный пдф в том, что Скр...    1.0"
      ]
     },
     "execution_count": 17,
     "metadata": {},
     "output_type": "execute_result"
    }
   ],
   "source": [
    "data = pd.read_csv('labeled.csv')\n",
    "data.head()"
   ]
  },
  {
   "cell_type": "code",
   "execution_count": 24,
   "metadata": {},
   "outputs": [
    {
     "name": "stderr",
     "output_type": "stream",
     "text": [
      "[nltk_data] Downloading package punkt to\n",
      "[nltk_data]     C:\\Users\\285\\AppData\\Roaming\\nltk_data...\n",
      "[nltk_data]   Package punkt is already up-to-date!\n",
      "[nltk_data] Downloading package punkt_tab to\n",
      "[nltk_data]     C:\\Users\\285\\AppData\\Roaming\\nltk_data...\n",
      "[nltk_data]   Unzipping tokenizers\\punkt_tab.zip.\n"
     ]
    },
    {
     "data": {
      "text/plain": [
       "True"
      ]
     },
     "execution_count": 24,
     "metadata": {},
     "output_type": "execute_result"
    }
   ],
   "source": [
    "import nltk\n",
    "nltk.download('punkt')\n",
    "nltk.download('punkt_tab')\n"
   ]
  },
  {
   "cell_type": "code",
   "execution_count": 28,
   "metadata": {},
   "outputs": [
    {
     "name": "stderr",
     "output_type": "stream",
     "text": [
      "[nltk_data] Downloading package stopwords to\n",
      "[nltk_data]     C:\\Users\\285\\AppData\\Roaming\\nltk_data...\n",
      "[nltk_data]   Package stopwords is already up-to-date!\n",
      "[nltk_data] Downloading package wordnet to\n",
      "[nltk_data]     C:\\Users\\285\\AppData\\Roaming\\nltk_data...\n",
      "[nltk_data]   Package wordnet is already up-to-date!\n",
      "[nltk_data] Downloading package punkt to\n",
      "[nltk_data]     C:\\Users\\285\\AppData\\Roaming\\nltk_data...\n",
      "[nltk_data]   Package punkt is already up-to-date!\n",
      "[nltk_data] Downloading package punkt_tab to\n",
      "[nltk_data]     C:\\Users\\285\\AppData\\Roaming\\nltk_data...\n",
      "[nltk_data]   Package punkt_tab is already up-to-date!\n"
     ]
    },
    {
     "name": "stdout",
     "output_type": "stream",
     "text": [
      "Первая строка оригинальных комментариев:\n",
      "0                 Верблюдов-то за что? Дебилы, бл...\\n\n",
      "1    Хохлы, это отдушина затюканого россиянина, мол...\n",
      "2                            Собаке - собачья смерть\\n\n",
      "3    Страницу обнови, дебил. Это тоже не оскорблени...\n",
      "4    тебя не убедил 6-страничный пдф в том, что Скр...\n",
      "Name: comment, dtype: object\n",
      "\n",
      "Размер матрицы Bag of Words: (14412, 8152)\n"
     ]
    }
   ],
   "source": [
    "import pandas as pd\n",
    "import re\n",
    "import nltk\n",
    "from nltk.corpus import stopwords\n",
    "from nltk.stem import PorterStemmer, WordNetLemmatizer\n",
    "from sklearn.feature_extraction.text import CountVectorizer\n",
    "\n",
    "# Загрузка необходимых ресурсов\n",
    "nltk.download('stopwords')\n",
    "nltk.download('wordnet')\n",
    "nltk.download('punkt')\n",
    "nltk.download('punkt_tab')\n",
    "\n",
    "# Инициализация инструментов\n",
    "stemmer = PorterStemmer()\n",
    "lemmatizer = WordNetLemmatizer()\n",
    "stop_words = set(stopwords.words('russian'))\n",
    "\n",
    "# Загрузка данных\n",
    "data = pd.read_csv(r'C:\\Users\\285\\Desktop\\data_science\\HomeWork14 NPL 1 lesson\\labeled.csv')\n",
    "\n",
    "# Функция для очистки текста\n",
    "def preprocess_text(text):\n",
    "    text = re.sub(r'\\W', ' ', text)  # Удаление специальных символов\n",
    "    text = re.sub(r'\\d+', '', text)   # Удаление цифр\n",
    "    text = text.lower()                # Приведение к нижнему регистру\n",
    "    return text\n",
    "\n",
    "# Функция для стемминга\n",
    "def stem_text(text):\n",
    "    words = re.findall(r'\\b\\w+\\b', text)  # Токенизация текста\n",
    "    stemmed_words = [stemmer.stem(word) for word in words if word not in stop_words]  # Стемминг\n",
    "    return ' '.join(stemmed_words)\n",
    "\n",
    "# Функция для лемматизации\n",
    "def lemmatize_text(text):\n",
    "    words = re.findall(r'\\b\\w+\\b', text)  # Токенизация текста\n",
    "    lemmatized_words = [lemmatizer.lemmatize(word) for word in words if word not in stop_words]  # Лемматизация\n",
    "    return ' '.join(lemmatized_words)\n",
    "\n",
    "# Применяем предобработку, стемминг и лемматизацию\n",
    "data['cleaned_comment'] = data['comment'].apply(preprocess_text)\n",
    "data['stemmed_comment'] = data['cleaned_comment'].apply(stem_text)\n",
    "data['lemmatized_comment'] = data['cleaned_comment'].apply(lemmatize_text)\n",
    "\n",
    "# Применение Bag of Words с ограничениями\n",
    "vectorizer = CountVectorizer(max_features=10000, min_df=5)  # Ограничиваем словарь\n",
    "X_bow = vectorizer.fit_transform(data['lemmatized_comment'])  # Применяем BoW к лемматизированным комментариям\n",
    "\n",
    "# Удаляем преобразование в DataFrame, чтобы избежать MemoryError\n",
    "# Если необходимо, вы можете работать с X_bow напрямую\n",
    "\n",
    "# Вывод первых строк BoW DataFrame в разреженном формате\n",
    "print(\"Первая строка оригинальных комментариев:\")\n",
    "print(data['comment'].head())\n",
    "print(\"\\nРазмер матрицы Bag of Words:\", X_bow.shape)\n"
   ]
  },
  {
   "cell_type": "code",
   "execution_count": null,
   "metadata": {},
   "outputs": [],
   "source": []
  }
 ],
 "metadata": {
  "colab": {
   "name": "NLP1_homework",
   "provenance": [],
   "toc_visible": true
  },
  "kernelspec": {
   "display_name": "Python 3 (ipykernel)",
   "language": "python",
   "name": "python3"
  },
  "language_info": {
   "codemirror_mode": {
    "name": "ipython",
    "version": 3
   },
   "file_extension": ".py",
   "mimetype": "text/x-python",
   "name": "python",
   "nbconvert_exporter": "python",
   "pygments_lexer": "ipython3",
   "version": "3.12.4"
  }
 },
 "nbformat": 4,
 "nbformat_minor": 4
}
