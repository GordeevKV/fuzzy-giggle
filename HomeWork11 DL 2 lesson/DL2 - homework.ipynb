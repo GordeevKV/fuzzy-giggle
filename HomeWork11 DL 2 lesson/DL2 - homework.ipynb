{
 "cells": [
  {
   "cell_type": "markdown",
   "metadata": {
    "executionInfo": {
     "elapsed": 945,
     "status": "ok",
     "timestamp": 1725280862946,
     "user": {
      "displayName": "M",
      "userId": "00222344656684414893"
     },
     "user_tz": -180
    },
    "id": "2K5UM_gqtv0c"
   },
   "source": [
    "# task2.4. Реализовать на базе модели определения пола выявление с другим нормированием (относительно среднего значения). Также добавьте альтернативную функцию активации"
   ]
  },
  {
   "cell_type": "code",
   "execution_count": 6,
   "metadata": {},
   "outputs": [
    {
     "name": "stdout",
     "output_type": "stream",
     "text": [
      "Epoch 1/50\n",
      "\u001b[1m2/2\u001b[0m \u001b[32m━━━━━━━━━━━━━━━━━━━━\u001b[0m\u001b[37m\u001b[0m \u001b[1m1s\u001b[0m 269ms/step - accuracy: 0.6667 - loss: 0.6990 - val_accuracy: 0.0000e+00 - val_loss: 0.7311\n",
      "Epoch 2/50\n",
      "\u001b[1m2/2\u001b[0m \u001b[32m━━━━━━━━━━━━━━━━━━━━\u001b[0m\u001b[37m\u001b[0m \u001b[1m0s\u001b[0m 47ms/step - accuracy: 0.8333 - loss: 0.6545 - val_accuracy: 0.0000e+00 - val_loss: 0.7602\n",
      "Epoch 3/50\n",
      "\u001b[1m2/2\u001b[0m \u001b[32m━━━━━━━━━━━━━━━━━━━━\u001b[0m\u001b[37m\u001b[0m \u001b[1m0s\u001b[0m 40ms/step - accuracy: 0.6667 - loss: 0.6661 - val_accuracy: 0.0000e+00 - val_loss: 0.7865\n",
      "Epoch 4/50\n",
      "\u001b[1m2/2\u001b[0m \u001b[32m━━━━━━━━━━━━━━━━━━━━\u001b[0m\u001b[37m\u001b[0m \u001b[1m0s\u001b[0m 47ms/step - accuracy: 0.8333 - loss: 0.6181 - val_accuracy: 0.0000e+00 - val_loss: 0.8171\n",
      "Epoch 5/50\n",
      "\u001b[1m2/2\u001b[0m \u001b[32m━━━━━━━━━━━━━━━━━━━━\u001b[0m\u001b[37m\u001b[0m \u001b[1m0s\u001b[0m 42ms/step - accuracy: 0.6667 - loss: 0.6487 - val_accuracy: 0.0000e+00 - val_loss: 0.8422\n",
      "Epoch 6/50\n",
      "\u001b[1m2/2\u001b[0m \u001b[32m━━━━━━━━━━━━━━━━━━━━\u001b[0m\u001b[37m\u001b[0m \u001b[1m0s\u001b[0m 48ms/step - accuracy: 0.8333 - loss: 0.5881 - val_accuracy: 0.0000e+00 - val_loss: 0.8707\n",
      "Epoch 7/50\n",
      "\u001b[1m2/2\u001b[0m \u001b[32m━━━━━━━━━━━━━━━━━━━━\u001b[0m\u001b[37m\u001b[0m \u001b[1m0s\u001b[0m 43ms/step - accuracy: 0.6667 - loss: 0.6298 - val_accuracy: 0.0000e+00 - val_loss: 0.8980\n",
      "Epoch 8/50\n",
      "\u001b[1m2/2\u001b[0m \u001b[32m━━━━━━━━━━━━━━━━━━━━\u001b[0m\u001b[37m\u001b[0m \u001b[1m0s\u001b[0m 44ms/step - accuracy: 0.6667 - loss: 0.5697 - val_accuracy: 0.0000e+00 - val_loss: 0.9280\n",
      "Epoch 9/50\n",
      "\u001b[1m2/2\u001b[0m \u001b[32m━━━━━━━━━━━━━━━━━━━━\u001b[0m\u001b[37m\u001b[0m \u001b[1m0s\u001b[0m 53ms/step - accuracy: 0.6667 - loss: 0.5563 - val_accuracy: 0.0000e+00 - val_loss: 0.9581\n",
      "Epoch 10/50\n",
      "\u001b[1m2/2\u001b[0m \u001b[32m━━━━━━━━━━━━━━━━━━━━\u001b[0m\u001b[37m\u001b[0m \u001b[1m0s\u001b[0m 52ms/step - accuracy: 0.6667 - loss: 0.6084 - val_accuracy: 0.0000e+00 - val_loss: 0.9863\n",
      "Epoch 11/50\n",
      "\u001b[1m2/2\u001b[0m \u001b[32m━━━━━━━━━━━━━━━━━━━━\u001b[0m\u001b[37m\u001b[0m \u001b[1m0s\u001b[0m 56ms/step - accuracy: 1.0000 - loss: 0.5292 - val_accuracy: 0.0000e+00 - val_loss: 1.0173\n",
      "Epoch 12/50\n",
      "\u001b[1m2/2\u001b[0m \u001b[32m━━━━━━━━━━━━━━━━━━━━\u001b[0m\u001b[37m\u001b[0m \u001b[1m0s\u001b[0m 44ms/step - accuracy: 1.0000 - loss: 0.5196 - val_accuracy: 0.0000e+00 - val_loss: 1.0458\n",
      "Epoch 13/50\n",
      "\u001b[1m2/2\u001b[0m \u001b[32m━━━━━━━━━━━━━━━━━━━━\u001b[0m\u001b[37m\u001b[0m \u001b[1m0s\u001b[0m 50ms/step - accuracy: 1.0000 - loss: 0.5110 - val_accuracy: 0.0000e+00 - val_loss: 1.0740\n",
      "Epoch 14/50\n",
      "\u001b[1m2/2\u001b[0m \u001b[32m━━━━━━━━━━━━━━━━━━━━\u001b[0m\u001b[37m\u001b[0m \u001b[1m0s\u001b[0m 49ms/step - accuracy: 1.0000 - loss: 0.5844 - val_accuracy: 0.0000e+00 - val_loss: 1.1017\n",
      "Epoch 15/50\n",
      "\u001b[1m2/2\u001b[0m \u001b[32m━━━━━━━━━━━━━━━━━━━━\u001b[0m\u001b[37m\u001b[0m \u001b[1m0s\u001b[0m 40ms/step - accuracy: 1.0000 - loss: 0.5003 - val_accuracy: 0.0000e+00 - val_loss: 1.1318\n",
      "Epoch 16/50\n",
      "\u001b[1m2/2\u001b[0m \u001b[32m━━━━━━━━━━━━━━━━━━━━\u001b[0m\u001b[37m\u001b[0m \u001b[1m0s\u001b[0m 44ms/step - accuracy: 1.0000 - loss: 0.5747 - val_accuracy: 0.0000e+00 - val_loss: 1.1603\n",
      "Epoch 17/50\n",
      "\u001b[1m2/2\u001b[0m \u001b[32m━━━━━━━━━━━━━━━━━━━━\u001b[0m\u001b[37m\u001b[0m \u001b[1m0s\u001b[0m 45ms/step - accuracy: 1.0000 - loss: 0.4896 - val_accuracy: 0.0000e+00 - val_loss: 1.1908\n",
      "Epoch 18/50\n",
      "\u001b[1m2/2\u001b[0m \u001b[32m━━━━━━━━━━━━━━━━━━━━\u001b[0m\u001b[37m\u001b[0m \u001b[1m0s\u001b[0m 38ms/step - accuracy: 1.0000 - loss: 0.4829 - val_accuracy: 0.0000e+00 - val_loss: 1.2207\n",
      "Epoch 19/50\n",
      "\u001b[1m2/2\u001b[0m \u001b[32m━━━━━━━━━━━━━━━━━━━━\u001b[0m\u001b[37m\u001b[0m \u001b[1m0s\u001b[0m 50ms/step - accuracy: 1.0000 - loss: 0.4779 - val_accuracy: 0.0000e+00 - val_loss: 1.2513\n",
      "Epoch 20/50\n",
      "\u001b[1m2/2\u001b[0m \u001b[32m━━━━━━━━━━━━━━━━━━━━\u001b[0m\u001b[37m\u001b[0m \u001b[1m0s\u001b[0m 46ms/step - accuracy: 1.0000 - loss: 0.5590 - val_accuracy: 0.0000e+00 - val_loss: 1.2800\n",
      "Epoch 21/50\n",
      "\u001b[1m2/2\u001b[0m \u001b[32m━━━━━━━━━━━━━━━━━━━━\u001b[0m\u001b[37m\u001b[0m \u001b[1m0s\u001b[0m 64ms/step - accuracy: 1.0000 - loss: 0.4688 - val_accuracy: 0.0000e+00 - val_loss: 1.3114\n",
      "Epoch 22/50\n",
      "\u001b[1m2/2\u001b[0m \u001b[32m━━━━━━━━━━━━━━━━━━━━\u001b[0m\u001b[37m\u001b[0m \u001b[1m0s\u001b[0m 52ms/step - accuracy: 1.0000 - loss: 0.5503 - val_accuracy: 0.0000e+00 - val_loss: 1.3408\n",
      "Epoch 23/50\n",
      "\u001b[1m2/2\u001b[0m \u001b[32m━━━━━━━━━━━━━━━━━━━━\u001b[0m\u001b[37m\u001b[0m \u001b[1m0s\u001b[0m 49ms/step - accuracy: 1.0000 - loss: 0.4611 - val_accuracy: 0.0000e+00 - val_loss: 1.3714\n",
      "Epoch 24/50\n",
      "\u001b[1m2/2\u001b[0m \u001b[32m━━━━━━━━━━━━━━━━━━━━\u001b[0m\u001b[37m\u001b[0m \u001b[1m0s\u001b[0m 51ms/step - accuracy: 1.0000 - loss: 0.5448 - val_accuracy: 0.0000e+00 - val_loss: 1.4004\n",
      "Epoch 25/50\n",
      "\u001b[1m2/2\u001b[0m \u001b[32m━━━━━━━━━━━━━━━━━━━━\u001b[0m\u001b[37m\u001b[0m \u001b[1m0s\u001b[0m 49ms/step - accuracy: 1.0000 - loss: 0.5407 - val_accuracy: 0.0000e+00 - val_loss: 1.4310\n",
      "Epoch 26/50\n",
      "\u001b[1m2/2\u001b[0m \u001b[32m━━━━━━━━━━━━━━━━━━━━\u001b[0m\u001b[37m\u001b[0m \u001b[1m0s\u001b[0m 46ms/step - accuracy: 1.0000 - loss: 0.4391 - val_accuracy: 0.0000e+00 - val_loss: 1.4632\n",
      "Epoch 27/50\n",
      "\u001b[1m2/2\u001b[0m \u001b[32m━━━━━━━━━━━━━━━━━━━━\u001b[0m\u001b[37m\u001b[0m \u001b[1m0s\u001b[0m 46ms/step - accuracy: 1.0000 - loss: 0.4471 - val_accuracy: 0.0000e+00 - val_loss: 1.4959\n",
      "Epoch 28/50\n",
      "\u001b[1m2/2\u001b[0m \u001b[32m━━━━━━━━━━━━━━━━━━━━\u001b[0m\u001b[37m\u001b[0m \u001b[1m0s\u001b[0m 44ms/step - accuracy: 1.0000 - loss: 0.5317 - val_accuracy: 0.0000e+00 - val_loss: 1.5256\n",
      "Epoch 29/50\n",
      "\u001b[1m2/2\u001b[0m \u001b[32m━━━━━━━━━━━━━━━━━━━━\u001b[0m\u001b[37m\u001b[0m \u001b[1m0s\u001b[0m 50ms/step - accuracy: 1.0000 - loss: 0.4411 - val_accuracy: 0.0000e+00 - val_loss: 1.5581\n",
      "Epoch 30/50\n",
      "\u001b[1m2/2\u001b[0m \u001b[32m━━━━━━━━━━━━━━━━━━━━\u001b[0m\u001b[37m\u001b[0m \u001b[1m0s\u001b[0m 42ms/step - accuracy: 1.0000 - loss: 0.4240 - val_accuracy: 0.0000e+00 - val_loss: 1.5896\n",
      "Epoch 31/50\n",
      "\u001b[1m2/2\u001b[0m \u001b[32m━━━━━━━━━━━━━━━━━━━━\u001b[0m\u001b[37m\u001b[0m \u001b[1m0s\u001b[0m 51ms/step - accuracy: 1.0000 - loss: 0.4203 - val_accuracy: 0.0000e+00 - val_loss: 1.6211\n",
      "Epoch 32/50\n",
      "\u001b[1m2/2\u001b[0m \u001b[32m━━━━━━━━━━━━━━━━━━━━\u001b[0m\u001b[37m\u001b[0m \u001b[1m0s\u001b[0m 38ms/step - accuracy: 1.0000 - loss: 0.4329 - val_accuracy: 0.0000e+00 - val_loss: 1.6533\n",
      "Epoch 33/50\n",
      "\u001b[1m2/2\u001b[0m \u001b[32m━━━━━━━━━━━━━━━━━━━━\u001b[0m\u001b[37m\u001b[0m \u001b[1m0s\u001b[0m 48ms/step - accuracy: 1.0000 - loss: 0.5153 - val_accuracy: 0.0000e+00 - val_loss: 1.6837\n",
      "Epoch 34/50\n",
      "\u001b[1m2/2\u001b[0m \u001b[32m━━━━━━━━━━━━━━━━━━━━\u001b[0m\u001b[37m\u001b[0m \u001b[1m0s\u001b[0m 60ms/step - accuracy: 1.0000 - loss: 0.5282 - val_accuracy: 0.0000e+00 - val_loss: 1.7138\n",
      "Epoch 35/50\n",
      "\u001b[1m2/2\u001b[0m \u001b[32m━━━━━━━━━━━━━━━━━━━━\u001b[0m\u001b[37m\u001b[0m \u001b[1m0s\u001b[0m 39ms/step - accuracy: 1.0000 - loss: 0.4239 - val_accuracy: 0.0000e+00 - val_loss: 1.7442\n",
      "Epoch 36/50\n",
      "\u001b[1m2/2\u001b[0m \u001b[32m━━━━━━━━━━━━━━━━━━━━\u001b[0m\u001b[37m\u001b[0m \u001b[1m0s\u001b[0m 42ms/step - accuracy: 1.0000 - loss: 0.5242 - val_accuracy: 0.0000e+00 - val_loss: 1.7744\n",
      "Epoch 37/50\n",
      "\u001b[1m2/2\u001b[0m \u001b[32m━━━━━━━━━━━━━━━━━━━━\u001b[0m\u001b[37m\u001b[0m \u001b[1m0s\u001b[0m 47ms/step - accuracy: 1.0000 - loss: 0.4214 - val_accuracy: 0.0000e+00 - val_loss: 1.8061\n",
      "Epoch 38/50\n",
      "\u001b[1m2/2\u001b[0m \u001b[32m━━━━━━━━━━━━━━━━━━━━\u001b[0m\u001b[37m\u001b[0m \u001b[1m0s\u001b[0m 44ms/step - accuracy: 1.0000 - loss: 0.3984 - val_accuracy: 0.0000e+00 - val_loss: 1.8367\n",
      "Epoch 39/50\n",
      "\u001b[1m2/2\u001b[0m \u001b[32m━━━━━━━━━━━━━━━━━━━━\u001b[0m\u001b[37m\u001b[0m \u001b[1m0s\u001b[0m 45ms/step - accuracy: 1.0000 - loss: 0.5182 - val_accuracy: 0.0000e+00 - val_loss: 1.8672\n",
      "Epoch 40/50\n",
      "\u001b[1m2/2\u001b[0m \u001b[32m━━━━━━━━━━━━━━━━━━━━\u001b[0m\u001b[37m\u001b[0m \u001b[1m0s\u001b[0m 41ms/step - accuracy: 1.0000 - loss: 0.4154 - val_accuracy: 0.0000e+00 - val_loss: 1.8995\n",
      "Epoch 41/50\n",
      "\u001b[1m2/2\u001b[0m \u001b[32m━━━━━━━━━━━━━━━━━━━━\u001b[0m\u001b[37m\u001b[0m \u001b[1m0s\u001b[0m 42ms/step - accuracy: 1.0000 - loss: 0.4921 - val_accuracy: 0.0000e+00 - val_loss: 1.9283\n",
      "Epoch 42/50\n",
      "\u001b[1m2/2\u001b[0m \u001b[32m━━━━━━━━━━━━━━━━━━━━\u001b[0m\u001b[37m\u001b[0m \u001b[1m0s\u001b[0m 45ms/step - accuracy: 1.0000 - loss: 0.4881 - val_accuracy: 0.0000e+00 - val_loss: 1.9577\n",
      "Epoch 43/50\n",
      "\u001b[1m2/2\u001b[0m \u001b[32m━━━━━━━━━━━━━━━━━━━━\u001b[0m\u001b[37m\u001b[0m \u001b[1m0s\u001b[0m 41ms/step - accuracy: 1.0000 - loss: 0.4899 - val_accuracy: 0.0000e+00 - val_loss: 1.9895\n",
      "Epoch 44/50\n",
      "\u001b[1m2/2\u001b[0m \u001b[32m━━━━━━━━━━━━━━━━━━━━\u001b[0m\u001b[37m\u001b[0m \u001b[1m0s\u001b[0m 40ms/step - accuracy: 1.0000 - loss: 0.4084 - val_accuracy: 0.0000e+00 - val_loss: 2.0223\n",
      "Epoch 45/50\n",
      "\u001b[1m2/2\u001b[0m \u001b[32m━━━━━━━━━━━━━━━━━━━━\u001b[0m\u001b[37m\u001b[0m \u001b[1m0s\u001b[0m 58ms/step - accuracy: 1.0000 - loss: 0.3786 - val_accuracy: 0.0000e+00 - val_loss: 2.0531\n",
      "Epoch 46/50\n",
      "\u001b[1m2/2\u001b[0m \u001b[32m━━━━━━━━━━━━━━━━━━━━\u001b[0m\u001b[37m\u001b[0m \u001b[1m0s\u001b[0m 52ms/step - accuracy: 1.0000 - loss: 0.4807 - val_accuracy: 0.0000e+00 - val_loss: 2.0848\n",
      "Epoch 47/50\n",
      "\u001b[1m2/2\u001b[0m \u001b[32m━━━━━━━━━━━━━━━━━━━━\u001b[0m\u001b[37m\u001b[0m \u001b[1m0s\u001b[0m 39ms/step - accuracy: 1.0000 - loss: 0.3732 - val_accuracy: 0.0000e+00 - val_loss: 2.1158\n",
      "Epoch 48/50\n",
      "\u001b[1m2/2\u001b[0m \u001b[32m━━━━━━━━━━━━━━━━━━━━\u001b[0m\u001b[37m\u001b[0m \u001b[1m0s\u001b[0m 50ms/step - accuracy: 1.0000 - loss: 0.3997 - val_accuracy: 0.0000e+00 - val_loss: 2.1485\n",
      "Epoch 49/50\n",
      "\u001b[1m2/2\u001b[0m \u001b[32m━━━━━━━━━━━━━━━━━━━━\u001b[0m\u001b[37m\u001b[0m \u001b[1m0s\u001b[0m 52ms/step - accuracy: 1.0000 - loss: 0.3970 - val_accuracy: 0.0000e+00 - val_loss: 2.1808\n",
      "Epoch 50/50\n",
      "\u001b[1m2/2\u001b[0m \u001b[32m━━━━━━━━━━━━━━━━━━━━\u001b[0m\u001b[37m\u001b[0m \u001b[1m0s\u001b[0m 40ms/step - accuracy: 1.0000 - loss: 0.3945 - val_accuracy: 0.0000e+00 - val_loss: 2.2127\n",
      "\u001b[1m1/1\u001b[0m \u001b[32m━━━━━━━━━━━━━━━━━━━━\u001b[0m\u001b[37m\u001b[0m \u001b[1m0s\u001b[0m 36ms/step - accuracy: 0.0000e+00 - loss: 2.2127\n",
      "Тестовая точность: 0.00\n"
     ]
    }
   ],
   "source": [
    "import numpy as np\n",
    "import tensorflow as tf\n",
    "from tensorflow import keras\n",
    "from tensorflow.keras import layers\n",
    "from sklearn.model_selection import train_test_split\n",
    "\n",
    "# Пример данных (замените на свои)\n",
    "data = np.array([[1, 2, 3], [4, 5, 6], [7, 8, 9], [1, 1, 1], [2, 2, 2]])\n",
    "labels = np.array([0, 1, 0, 1, 0])  # Метки (0 или 1 для определения пола)\n",
    "\n",
    "# Разделение данных на обучающую и тестовую выборки\n",
    "X_train, X_test, y_train, y_test = train_test_split(data, labels, test_size=0.2, random_state=42)\n",
    "\n",
    "# Нормирование данных\n",
    "mean = np.mean(X_train, axis=0)\n",
    "std_dev = np.std(X_train, axis=0)\n",
    "X_train_normalized = (X_train - mean) / std_dev\n",
    "X_test_normalized = (X_test - mean) / std_dev\n",
    "\n",
    "# Альтернативная функция активации: Leaky ReLU\n",
    "def leaky_relu(x, alpha=0.2):\n",
    "    return tf.where(x >= 0, x, x * alpha)\n",
    "\n",
    "# Создание модели\n",
    "model = keras.Sequential([\n",
    "    layers.Dense(64, input_shape=(X_train_normalized.shape[1],), activation=leaky_relu),\n",
    "    layers.Dense(32, activation=leaky_relu),\n",
    "    layers.Dense(1, activation='sigmoid')  # Для бинарной классификации\n",
    "])\n",
    "\n",
    "# Компиляция модели\n",
    "model.compile(optimizer='adam', loss='binary_crossentropy', metrics=['accuracy'])\n",
    "\n",
    "# Обучение модели\n",
    "model.fit(X_train_normalized, y_train, epochs=50, batch_size=2, validation_data=(X_test_normalized, y_test))\n",
    "\n",
    "# Оценка модели\n",
    "loss, accuracy = model.evaluate(X_test_normalized, y_test)\n",
    "print(f'Тестовая точность: {accuracy:.2f}')\n"
   ]
  },
  {
   "cell_type": "markdown",
   "metadata": {},
   "source": [
    "# task2.5. Реализовать решение уровнения через градиентный спуск: x**2+2x-6"
   ]
  },
  {
   "cell_type": "code",
   "execution_count": 7,
   "metadata": {},
   "outputs": [
    {
     "name": "stdout",
     "output_type": "stream",
     "text": [
      "Эпоха 0: x = -0.2, f(x) = -6.36\n",
      "Эпоха 100: x = -0.9999999998370371, f(x) = -7.0\n",
      "Эпоха 200: x = -0.9999999999999998, f(x) = -7.0\n",
      "Эпоха 300: x = -0.9999999999999998, f(x) = -7.0\n",
      "Эпоха 400: x = -0.9999999999999998, f(x) = -7.0\n",
      "Эпоха 500: x = -0.9999999999999998, f(x) = -7.0\n",
      "Эпоха 600: x = -0.9999999999999998, f(x) = -7.0\n",
      "Эпоха 700: x = -0.9999999999999998, f(x) = -7.0\n",
      "Эпоха 800: x = -0.9999999999999998, f(x) = -7.0\n",
      "Эпоха 900: x = -0.9999999999999998, f(x) = -7.0\n",
      "Найденное значение x: -0.9999999999999998\n",
      "Значение функции в этой точке: f(x) = -7.0\n"
     ]
    }
   ],
   "source": [
    "import numpy as np\n",
    "\n",
    "# Целевая функция\n",
    "def f(x):\n",
    "    return x**2 + 2*x - 6\n",
    "\n",
    "# Производная функции\n",
    "def f_prime(x):\n",
    "    return 2*x + 2\n",
    "\n",
    "# Градиентный спуск\n",
    "def gradient_descent(learning_rate=0.1, epochs=1000, initial_x=0.0):\n",
    "    x = initial_x  # Начальное значение\n",
    "    for i in range(epochs):\n",
    "        grad = f_prime(x)  # Вычисление градиента\n",
    "        x = x - learning_rate * grad  # Обновление значения x\n",
    "        \n",
    "        # Выводим прогресс каждые 100 итераций\n",
    "        if i % 100 == 0:\n",
    "            print(f\"Эпоха {i}: x = {x}, f(x) = {f(x)}\")\n",
    "    \n",
    "    return x\n",
    "\n",
    "# Пример использования\n",
    "if __name__ == \"__main__\":\n",
    "    # Задаем параметры\n",
    "    learning_rate = 0.1  # Скорость обучения\n",
    "    epochs = 1000  # Количество итераций\n",
    "    initial_x = 0.0  # Начальное значение x\n",
    "    \n",
    "    # Запускаем градиентный спуск\n",
    "    solution = gradient_descent(learning_rate=learning_rate, epochs=epochs, initial_x=initial_x)\n",
    "    print(f\"Найденное значение x: {solution}\")\n",
    "    print(f\"Значение функции в этой точке: f(x) = {f(solution)}\")\n"
   ]
  },
  {
   "cell_type": "markdown",
   "metadata": {},
   "source": [
    "# task2.6. (дополнительно) Реализовать решение уровнения через градиентный спуск: x**3+2x**2-6x-1"
   ]
  },
  {
   "cell_type": "code",
   "execution_count": 8,
   "metadata": {},
   "outputs": [
    {
     "name": "stdout",
     "output_type": "stream",
     "text": [
      "Приближенное решение уравнения: 0.8968052532744759\n",
      "Значение функции в этой точке: -4.051047904897441\n"
     ]
    }
   ],
   "source": [
    "def f(x):\n",
    "    return x**3 + 2*x**2 - 6*x - 1\n",
    "\n",
    "def f_prime(x):\n",
    "    return 3*x**2 + 4*x - 6\n",
    "\n",
    "# Градиентный спуск\n",
    "def gradient_descent(starting_point, learning_rate, num_iterations):\n",
    "    x = starting_point\n",
    "    for _ in range(num_iterations):\n",
    "        x -= learning_rate * f_prime(x)\n",
    "    return x\n",
    "\n",
    "# Параметры\n",
    "starting_point = 0  # Начальная точка\n",
    "learning_rate = 0.01  # Шаг обучения\n",
    "num_iterations = 1000  # Количество итераций\n",
    "\n",
    "result = gradient_descent(starting_point, learning_rate, num_iterations)\n",
    "print(\"Приближенное решение уравнения:\", result)\n",
    "print(\"Значение функции в этой точке:\", f(result))\n"
   ]
  }
 ],
 "metadata": {
  "colab": {
   "authorship_tag": "ABX9TyMvHXDSFXur7x9twS+Tz0ee",
   "provenance": []
  },
  "kernelspec": {
   "display_name": "Python 3 (ipykernel)",
   "language": "python",
   "name": "python3"
  },
  "language_info": {
   "codemirror_mode": {
    "name": "ipython",
    "version": 3
   },
   "file_extension": ".py",
   "mimetype": "text/x-python",
   "name": "python",
   "nbconvert_exporter": "python",
   "pygments_lexer": "ipython3",
   "version": "3.12.4"
  }
 },
 "nbformat": 4,
 "nbformat_minor": 4
}
