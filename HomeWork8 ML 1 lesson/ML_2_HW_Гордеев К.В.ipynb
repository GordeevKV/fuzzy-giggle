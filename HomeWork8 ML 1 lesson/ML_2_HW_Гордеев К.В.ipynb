{
 "cells": [
  {
   "cell_type": "code",
   "execution_count": 11,
   "metadata": {},
   "outputs": [],
   "source": [
    "import pandas as pd\n",
    "import numpy as np"
   ]
  },
  {
   "cell_type": "code",
   "execution_count": 12,
   "metadata": {},
   "outputs": [],
   "source": [
    "RANDOM_STATE = 42\n",
    "\n",
    "results_regression = pd.DataFrame(columns = ['model', 'task', 'R2'])\n",
    "results_classification = pd.DataFrame(columns = ['model', 'task', 'f1', 'accuracy'])"
   ]
  },
  {
   "cell_type": "markdown",
   "metadata": {},
   "source": [
    "https://www.cs.toronto.edu/~delve/data/boston/bostonDetail.html"
   ]
  },
  {
   "cell_type": "code",
   "execution_count": 13,
   "metadata": {},
   "outputs": [
    {
     "data": {
      "text/html": [
       "<div>\n",
       "<style scoped>\n",
       "    .dataframe tbody tr th:only-of-type {\n",
       "        vertical-align: middle;\n",
       "    }\n",
       "\n",
       "    .dataframe tbody tr th {\n",
       "        vertical-align: top;\n",
       "    }\n",
       "\n",
       "    .dataframe thead th {\n",
       "        text-align: right;\n",
       "    }\n",
       "</style>\n",
       "<table border=\"1\" class=\"dataframe\">\n",
       "  <thead>\n",
       "    <tr style=\"text-align: right;\">\n",
       "      <th></th>\n",
       "      <th>CRIM</th>\n",
       "      <th>ZN</th>\n",
       "      <th>INDUS</th>\n",
       "      <th>CHAS</th>\n",
       "      <th>NOX</th>\n",
       "      <th>RM</th>\n",
       "      <th>AGE</th>\n",
       "      <th>DIS</th>\n",
       "      <th>RAD</th>\n",
       "      <th>TAX</th>\n",
       "      <th>PTRATIO</th>\n",
       "      <th>B</th>\n",
       "      <th>LSTAT</th>\n",
       "      <th>MEDV</th>\n",
       "    </tr>\n",
       "  </thead>\n",
       "  <tbody>\n",
       "    <tr>\n",
       "      <th>0</th>\n",
       "      <td>0.00632</td>\n",
       "      <td>18.0</td>\n",
       "      <td>2.31</td>\n",
       "      <td>0.0</td>\n",
       "      <td>0.538</td>\n",
       "      <td>6.575</td>\n",
       "      <td>65.2</td>\n",
       "      <td>4.0900</td>\n",
       "      <td>1.0</td>\n",
       "      <td>296.0</td>\n",
       "      <td>15.3</td>\n",
       "      <td>396.90</td>\n",
       "      <td>4.98</td>\n",
       "      <td>24.0</td>\n",
       "    </tr>\n",
       "    <tr>\n",
       "      <th>1</th>\n",
       "      <td>0.02731</td>\n",
       "      <td>0.0</td>\n",
       "      <td>7.07</td>\n",
       "      <td>0.0</td>\n",
       "      <td>0.469</td>\n",
       "      <td>6.421</td>\n",
       "      <td>78.9</td>\n",
       "      <td>4.9671</td>\n",
       "      <td>2.0</td>\n",
       "      <td>242.0</td>\n",
       "      <td>17.8</td>\n",
       "      <td>396.90</td>\n",
       "      <td>9.14</td>\n",
       "      <td>21.6</td>\n",
       "    </tr>\n",
       "    <tr>\n",
       "      <th>2</th>\n",
       "      <td>0.02729</td>\n",
       "      <td>0.0</td>\n",
       "      <td>7.07</td>\n",
       "      <td>0.0</td>\n",
       "      <td>0.469</td>\n",
       "      <td>7.185</td>\n",
       "      <td>61.1</td>\n",
       "      <td>4.9671</td>\n",
       "      <td>2.0</td>\n",
       "      <td>242.0</td>\n",
       "      <td>17.8</td>\n",
       "      <td>392.83</td>\n",
       "      <td>4.03</td>\n",
       "      <td>34.7</td>\n",
       "    </tr>\n",
       "    <tr>\n",
       "      <th>3</th>\n",
       "      <td>0.03237</td>\n",
       "      <td>0.0</td>\n",
       "      <td>2.18</td>\n",
       "      <td>0.0</td>\n",
       "      <td>0.458</td>\n",
       "      <td>6.998</td>\n",
       "      <td>45.8</td>\n",
       "      <td>6.0622</td>\n",
       "      <td>3.0</td>\n",
       "      <td>222.0</td>\n",
       "      <td>18.7</td>\n",
       "      <td>394.63</td>\n",
       "      <td>2.94</td>\n",
       "      <td>33.4</td>\n",
       "    </tr>\n",
       "    <tr>\n",
       "      <th>4</th>\n",
       "      <td>0.06905</td>\n",
       "      <td>0.0</td>\n",
       "      <td>2.18</td>\n",
       "      <td>0.0</td>\n",
       "      <td>0.458</td>\n",
       "      <td>7.147</td>\n",
       "      <td>54.2</td>\n",
       "      <td>6.0622</td>\n",
       "      <td>3.0</td>\n",
       "      <td>222.0</td>\n",
       "      <td>18.7</td>\n",
       "      <td>396.90</td>\n",
       "      <td>5.33</td>\n",
       "      <td>36.2</td>\n",
       "    </tr>\n",
       "  </tbody>\n",
       "</table>\n",
       "</div>"
      ],
      "text/plain": [
       "      CRIM    ZN  INDUS  CHAS    NOX     RM   AGE     DIS  RAD    TAX  \\\n",
       "0  0.00632  18.0   2.31   0.0  0.538  6.575  65.2  4.0900  1.0  296.0   \n",
       "1  0.02731   0.0   7.07   0.0  0.469  6.421  78.9  4.9671  2.0  242.0   \n",
       "2  0.02729   0.0   7.07   0.0  0.469  7.185  61.1  4.9671  2.0  242.0   \n",
       "3  0.03237   0.0   2.18   0.0  0.458  6.998  45.8  6.0622  3.0  222.0   \n",
       "4  0.06905   0.0   2.18   0.0  0.458  7.147  54.2  6.0622  3.0  222.0   \n",
       "\n",
       "   PTRATIO       B  LSTAT  MEDV  \n",
       "0     15.3  396.90   4.98  24.0  \n",
       "1     17.8  396.90   9.14  21.6  \n",
       "2     17.8  392.83   4.03  34.7  \n",
       "3     18.7  394.63   2.94  33.4  \n",
       "4     18.7  396.90   5.33  36.2  "
      ]
     },
     "execution_count": 13,
     "metadata": {},
     "output_type": "execute_result"
    }
   ],
   "source": [
    "data = pd.read_csv('boston.csv')\n",
    "data.head()"
   ]
  },
  {
   "cell_type": "code",
   "execution_count": null,
   "metadata": {},
   "outputs": [],
   "source": []
  },
  {
   "cell_type": "markdown",
   "metadata": {},
   "source": [
    "1. Разделите выборку на обучающую и тестовую в отношении 80%/20%, предварительно выделив целевую переменную (колонка 'MEDV')."
   ]
  },
  {
   "cell_type": "code",
   "execution_count": 14,
   "metadata": {},
   "outputs": [
    {
     "data": {
      "text/plain": [
       "(         CRIM    ZN  INDUS  CHAS     NOX     RM   AGE     DIS   RAD    TAX  \\\n",
       " 477  15.02340   0.0  18.10   0.0  0.6140  5.304  97.3  2.1007  24.0  666.0   \n",
       " 15    0.62739   0.0   8.14   0.0  0.5380  5.834  56.5  4.4986   4.0  307.0   \n",
       " 332   0.03466  35.0   6.06   0.0  0.4379  6.031  23.3  6.6407   1.0  304.0   \n",
       " 423   7.05042   0.0  18.10   0.0  0.6140  6.103  85.1  2.0218  24.0  666.0   \n",
       " 19    0.72580   0.0   8.14   0.0  0.5380  5.727  69.5  3.7965   4.0  307.0   \n",
       " \n",
       "      PTRATIO       B  LSTAT  \n",
       " 477     20.2  349.48  24.91  \n",
       " 15      21.0  395.62   8.47  \n",
       " 332     16.9  362.25   7.83  \n",
       " 423     20.2    2.52  23.29  \n",
       " 19      21.0  390.95  11.28  ,\n",
       " 477    12.0\n",
       " 15     19.9\n",
       " 332    19.4\n",
       " 423    13.4\n",
       " 19     18.2\n",
       " Name: MEDV, dtype: float64)"
      ]
     },
     "execution_count": 14,
     "metadata": {},
     "output_type": "execute_result"
    }
   ],
   "source": [
    "import pandas as pd\n",
    "from sklearn.model_selection import train_test_split\n",
    "\n",
    "# Загрузка данных\n",
    "data = pd.read_csv('C:/Users/285/Desktop/data_science/HomeWork8 ML 1 lesson/boston.csv')\n",
    "\n",
    "# Разделение данных на признаки и целевую переменную\n",
    "X = data.drop('MEDV', axis=1)\n",
    "y = data['MEDV']\n",
    "\n",
    "# Разделение выборки на обучающую и тестовую (80%/20%)\n",
    "X_train, X_test, y_train, y_test = train_test_split(X, y, test_size=0.2, random_state=42)\n",
    "\n",
    "X_train.head(), y_train.head()\n"
   ]
  },
  {
   "cell_type": "markdown",
   "metadata": {},
   "source": [
    "2. Обучите стандартную регрессию, а также Ridge и  Lasso с параметрами по умолчанию и выведите их R2 на тестовой выборке"
   ]
  },
  {
   "cell_type": "code",
   "execution_count": 15,
   "metadata": {},
   "outputs": [],
   "source": [
    "from sklearn.linear_model import LinearRegression, Ridge, Lasso\n",
    "from sklearn.metrics import r2_score\n",
    "\n",
    "# Линейная регрессия\n",
    "lr = LinearRegression()\n",
    "lr.fit(X_train, y_train)\n",
    "y_pred_lr = lr.predict(X_test)\n",
    "r2_lr = r2_score(y_test, y_pred_lr)\n",
    "\n",
    "# Ridge регрессия\n",
    "ridge = Ridge()\n",
    "ridge.fit(X_train, y_train)\n",
    "y_pred_ridge = ridge.predict(X_test)\n",
    "r2_ridge = r2_score(y_test, y_pred_ridge)\n",
    "\n",
    "# Lasso регрессия\n",
    "lasso = Lasso()\n",
    "lasso.fit(X_train, y_train)\n",
    "y_pred_lasso = lasso.predict(X_test)\n",
    "r2_lasso = r2_score(y_test, y_pred_lasso)\n",
    "\n",
    "# Сохранение результатов\n",
    "results_regression.loc[0] = ['Linear Regression', 'task2', r2_lr]\n",
    "results_regression.loc[1] = ['Ridge', 'task2', r2_ridge]\n",
    "results_regression.loc[2] = ['Lasso', 'task2', r2_lasso]\n",
    "\n",
    "results_regression\n",
    "\n",
    "\n",
    "### Ваш код ###\n",
    "\n",
    "r2_lr = 0\n",
    "r2_ridge = 0\n",
    "r2_lasso = 0\n",
    "results_regression.loc[0] = ['LR', 'task2', r2_lr]\n",
    "results_regression.loc[1] = ['Ridge', 'task2', r2_ridge]\n",
    "results_regression.loc[2] = ['Lasso', 'task2', r2_lasso]"
   ]
  },
  {
   "cell_type": "markdown",
   "metadata": {},
   "source": [
    "3. Для Ridge и Lasso подберите коэффициент регуляризации двумя способами 1) GridSearchCV, 2) RidgeCV и LassoCV, в пределах от $10^{-5}$ до $10^5$ (по степеням 10). Посчитайте R2 на тестовой выборке по всем моделям и сравните с предыдущими результатами."
   ]
  },
  {
   "cell_type": "code",
   "execution_count": 16,
   "metadata": {},
   "outputs": [],
   "source": [
    "from sklearn.model_selection import GridSearchCV\n",
    "from sklearn.linear_model import RidgeCV, LassoCV\n",
    "\n",
    "# Параметры для GridSearchCV\n",
    "param_grid = {'alpha': np.logspace(-5, 5, 11)}\n",
    "\n",
    "# Ridge с GridSearchCV\n",
    "ridge_grid_search = GridSearchCV(Ridge(), param_grid, cv=5)\n",
    "ridge_grid_search.fit(X_train, y_train)\n",
    "y_pred_ridge_grid = ridge_grid_search.predict(X_test)\n",
    "r2_ridge_grid_search = r2_score(y_test, y_pred_ridge_grid)\n",
    "\n",
    "# Ridge с RidgeCV\n",
    "ridge_cv = RidgeCV(alphas=np.logspace(-5, 5, 11), cv=5)\n",
    "ridge_cv.fit(X_train, y_train)\n",
    "y_pred_ridge_cv = ridge_cv.predict(X_test)\n",
    "r2_ridge_cv = r2_score(y_test, y_pred_ridge_cv)\n",
    "\n",
    "# Lasso с GridSearchCV\n",
    "lasso_grid_search = GridSearchCV(Lasso(), param_grid, cv=5)\n",
    "lasso_grid_search.fit(X_train, y_train)\n",
    "y_pred_lasso_grid = lasso_grid_search.predict(X_test)\n",
    "r2_lasso_grid_search = r2_score(y_test, y_pred_lasso_grid)\n",
    "\n",
    "# Lasso с LassoCV\n",
    "lasso_cv = LassoCV(alphas=np.logspace(-5, 5, 11), cv=5)\n",
    "lasso_cv.fit(X_train, y_train)\n",
    "y_pred_lasso_cv = lasso_cv.predict(X_test)\n",
    "r2_lasso_cv = r2_score(y_test, y_pred_lasso_cv)\n",
    "\n",
    "# Сохранение результатов\n",
    "results_regression.loc[3] = ['Ridge_GridSearchCV', 'task3', r2_ridge_grid_search]\n",
    "results_regression.loc[4] = ['RidgeCV', 'task3', r2_ridge_cv]\n",
    "results_regression.loc[5] = ['Lasso_GridSearchCV', 'task3', r2_lasso_grid_search]\n",
    "results_regression.loc[6] = ['LassoCV', 'task3', r2_lasso_cv]\n",
    "\n",
    "results_regression\n",
    "\n",
    "\n",
    "### Ваш код ###\n",
    "\n",
    "r2_ridge_grid_search = 0\n",
    "r2_ridge_cv = 0\n",
    "r2_lasso_grid_search = 0\n",
    "r2_lasso_cv = 0\n",
    "results_regression.loc[3] = ['Ridge_GridSearchCV', 'task3', r2_ridge_grid_search]\n",
    "results_regression.loc[4] = ['RidgeCV', 'task3', r2_ridge_cv]\n",
    "results_regression.loc[5] = ['Lasso_GridSearchCV', 'task3', r2_lasso_grid_search]\n",
    "results_regression.loc[6] = ['LassoCV', 'task3', r2_lasso_cv]"
   ]
  },
  {
   "cell_type": "markdown",
   "metadata": {},
   "source": [
    "4. Проведите масштабирование выборки (используйте Pipeline, StandardScaler, MinMaxScaler), посчитайте R2 для Ridge и Lasso с параметрами по умолчанию и сравните с предыдущими результатами."
   ]
  },
  {
   "cell_type": "code",
   "execution_count": 17,
   "metadata": {},
   "outputs": [
    {
     "name": "stdout",
     "output_type": "stream",
     "text": [
      "                   model   task        R2\n",
      "0                     LR  task2  0.000000\n",
      "1                  Ridge  task2  0.000000\n",
      "2                  Lasso  task2  0.000000\n",
      "3     Ridge_GridSearchCV  task3  0.000000\n",
      "4                RidgeCV  task3  0.000000\n",
      "5     Lasso_GridSearchCV  task3  0.000000\n",
      "6                LassoCV  task3  0.000000\n",
      "7   Ridge_StandardScaler  task4  0.668190\n",
      "8     Ridge_MinMaxScaler  task4  0.676221\n",
      "9   Lasso_StandardScaler  task4  0.624045\n",
      "10    Lasso_MinMaxScaler  task4  0.257392\n"
     ]
    }
   ],
   "source": [
    "import pandas as pd\n",
    "import numpy as np\n",
    "from sklearn.model_selection import train_test_split\n",
    "from sklearn.linear_model import Ridge, Lasso\n",
    "from sklearn.preprocessing import StandardScaler, MinMaxScaler\n",
    "from sklearn.pipeline import Pipeline\n",
    "from sklearn.metrics import r2_score\n",
    "\n",
    "# Загрузка данных\n",
    "data = pd.read_csv('C:/Users/285/Desktop/data_science/HomeWork8 ML 1 lesson/boston.csv')\n",
    "\n",
    "# Разделение на признаки и целевую переменную\n",
    "X = data.drop('MEDV', axis=1)\n",
    "y = data['MEDV']\n",
    "\n",
    "# Разделение на обучающую и тестовую выборки\n",
    "X_train, X_test, y_train, y_test = train_test_split(X, y, test_size=0.2, random_state=42)\n",
    "\n",
    "# Определение пайплайнов для Ridge и Lasso с масштабированием (StandardScaler)\n",
    "ridge_standard_pipeline = Pipeline([\n",
    "    ('scaler', StandardScaler()),\n",
    "    ('ridge', Ridge())\n",
    "])\n",
    "\n",
    "lasso_standard_pipeline = Pipeline([\n",
    "    ('scaler', StandardScaler()),\n",
    "    ('lasso', Lasso())\n",
    "])\n",
    "\n",
    "# Обучение моделей и расчет R2 на тестовой выборке (StandardScaler)\n",
    "ridge_standard_pipeline.fit(X_train, y_train)\n",
    "r2_ridge_standart_scaler = r2_score(y_test, ridge_standard_pipeline.predict(X_test))\n",
    "\n",
    "lasso_standard_pipeline.fit(X_train, y_train)\n",
    "r2_lasso_standart_scaler = r2_score(y_test, lasso_standard_pipeline.predict(X_test))\n",
    "\n",
    "# Определение пайплайнов для Ridge и Lasso с масштабированием (MinMaxScaler)\n",
    "ridge_minmax_pipeline = Pipeline([\n",
    "    ('scaler', MinMaxScaler()),\n",
    "    ('ridge', Ridge())\n",
    "])\n",
    "\n",
    "lasso_minmax_pipeline = Pipeline([\n",
    "    ('scaler', MinMaxScaler()),\n",
    "    ('lasso', Lasso())\n",
    "])\n",
    "\n",
    "# Обучение моделей и расчет R2 на тестовой выборке (MinMaxScaler)\n",
    "ridge_minmax_pipeline.fit(X_train, y_train)\n",
    "r2_ridge_min_max_scaler = r2_score(y_test, ridge_minmax_pipeline.predict(X_test))\n",
    "\n",
    "lasso_minmax_pipeline.fit(X_train, y_train)\n",
    "r2_lasso_min_max_scaler = r2_score(y_test, lasso_minmax_pipeline.predict(X_test))\n",
    "\n",
    "# Результаты\n",
    "results_regression.loc[7] = ['Ridge_StandardScaler', 'task4', r2_ridge_standart_scaler]\n",
    "results_regression.loc[8] = ['Ridge_MinMaxScaler', 'task4', r2_ridge_min_max_scaler]\n",
    "results_regression.loc[9] = ['Lasso_StandardScaler', 'task4', r2_lasso_standart_scaler]\n",
    "results_regression.loc[10] = ['Lasso_MinMaxScaler', 'task4', r2_lasso_min_max_scaler]\n",
    "\n",
    "# Вывод результатов\n",
    "print(results_regression)\n",
    "\n",
    "\n",
    "### Ваш код ###\n",
    "\n",
    "r2_ridge_standart_scaler = 0\n",
    "r2_ridge_min_max_scaler = 0\n",
    "r2_lasso_standart_scaler = 0\n",
    "r2_lasso_min_max_scaler = 0\n",
    "results_regression.loc[7] = ['Ridge_StandardScaler', 'task4', r2_ridge_standart_scaler]\n",
    "results_regression.loc[8] = ['Ridge_MinMaxScaler', 'task4', r2_ridge_min_max_scaler]\n",
    "results_regression.loc[9] = ['Lasso_StandardScaler', 'task4', r2_lasso_standart_scaler]\n",
    "results_regression.loc[10] = ['Lasso_MinMaxScaler', 'task4', r2_lasso_min_max_scaler]"
   ]
  },
  {
   "cell_type": "markdown",
   "metadata": {},
   "source": [
    "5. Подберите коэффициент регуляризации для Ridge и Lasso на масштабированных данных, посчитайте R2 и сравните с предыдущими результатами."
   ]
  },
  {
   "cell_type": "code",
   "execution_count": 18,
   "metadata": {},
   "outputs": [
    {
     "name": "stdout",
     "output_type": "stream",
     "text": [
      "Лучший alpha для Ridge:  2.559547922699533\n",
      "Лучший R2 для Ridge на обучающей выборке (CV):  0.7246186790549486\n",
      "R2 для Ridge на тестовой выборке:  0.6677355091197448\n",
      "Лучший alpha для Lasso:  0.0001\n",
      "Лучший R2 для Lasso на обучающей выборке (CV):  0.7245044930952103\n",
      "R2 для Lasso на тестовой выборке:  0.6684780921452501\n",
      "                   model   task        R2\n",
      "0                     LR  task2  0.000000\n",
      "1                  Ridge  task2  0.000000\n",
      "2                  Lasso  task2  0.000000\n",
      "3     Ridge_GridSearchCV  task3  0.000000\n",
      "4                RidgeCV  task3  0.000000\n",
      "5     Lasso_GridSearchCV  task3  0.000000\n",
      "6                LassoCV  task3  0.000000\n",
      "7   Ridge_StandardScaler  task4  0.000000\n",
      "8     Ridge_MinMaxScaler  task4  0.000000\n",
      "9   Lasso_StandardScaler  task4  0.000000\n",
      "10    Lasso_MinMaxScaler  task4  0.000000\n",
      "11         Ridge_CV_Best  task5  0.667736\n",
      "12         Lasso_CV_Best  task5  0.668478\n"
     ]
    }
   ],
   "source": [
    "import pandas as pd\n",
    "import numpy as np\n",
    "from sklearn.model_selection import train_test_split, GridSearchCV\n",
    "from sklearn.linear_model import Ridge, Lasso\n",
    "from sklearn.preprocessing import StandardScaler\n",
    "from sklearn.pipeline import Pipeline\n",
    "from sklearn.metrics import r2_score\n",
    "\n",
    "# Загрузка данных\n",
    "data = pd.read_csv('C:/Users/285/Desktop/data_science/HomeWork8 ML 1 lesson/boston.csv')\n",
    "\n",
    "# Разделение на признаки и целевую переменную\n",
    "X = data.drop('MEDV', axis=1)\n",
    "y = data['MEDV']\n",
    "\n",
    "# Разделение на обучающую и тестовую выборки\n",
    "X_train, X_test, y_train, y_test = train_test_split(X, y, test_size=0.2, random_state=42)\n",
    "\n",
    "# Создание пайплайна для Ridge с StandardScaler\n",
    "ridge_pipeline = Pipeline([\n",
    "    ('scaler', StandardScaler()),\n",
    "    ('ridge', Ridge())\n",
    "])\n",
    "\n",
    "# Определение сетки параметров для Ridge\n",
    "ridge_params = {\n",
    "    'ridge__alpha': np.logspace(-4, 4, 50)\n",
    "}\n",
    "\n",
    "# Кросс-валидация для Ridge\n",
    "ridge_grid_search = GridSearchCV(ridge_pipeline, ridge_params, cv=5, scoring='r2')\n",
    "ridge_grid_search.fit(X_train, y_train)\n",
    "\n",
    "# Лучший параметр alpha для Ridge\n",
    "best_alpha_ridge = ridge_grid_search.best_params_['ridge__alpha']\n",
    "best_r2_ridge = ridge_grid_search.best_score_\n",
    "\n",
    "# Оценка Ridge модели на тестовой выборке\n",
    "ridge_best_model = ridge_grid_search.best_estimator_\n",
    "r2_ridge_test = r2_score(y_test, ridge_best_model.predict(X_test))\n",
    "\n",
    "# Создание пайплайна для Lasso с StandardScaler\n",
    "lasso_pipeline = Pipeline([\n",
    "    ('scaler', StandardScaler()),\n",
    "    ('lasso', Lasso())\n",
    "])\n",
    "\n",
    "# Определение сетки параметров для Lasso\n",
    "lasso_params = {\n",
    "    'lasso__alpha': np.logspace(-4, 4, 50)\n",
    "}\n",
    "\n",
    "# Кросс-валидация для Lasso\n",
    "lasso_grid_search = GridSearchCV(lasso_pipeline, lasso_params, cv=5, scoring='r2')\n",
    "lasso_grid_search.fit(X_train, y_train)\n",
    "\n",
    "# Лучший параметр alpha для Lasso\n",
    "best_alpha_lasso = lasso_grid_search.best_params_['lasso__alpha']\n",
    "best_r2_lasso = lasso_grid_search.best_score_\n",
    "\n",
    "# Оценка Lasso модели на тестовой выборке\n",
    "lasso_best_model = lasso_grid_search.best_estimator_\n",
    "r2_lasso_test = r2_score(y_test, lasso_best_model.predict(X_test))\n",
    "\n",
    "# Добавление результатов в таблицу\n",
    "results_regression.loc[11] = ['Ridge_CV_Best', 'task5', r2_ridge_test]\n",
    "results_regression.loc[12] = ['Lasso_CV_Best', 'task5', r2_lasso_test]\n",
    "\n",
    "# Вывод результатов\n",
    "print(\"Лучший alpha для Ridge: \", best_alpha_ridge)\n",
    "print(\"Лучший R2 для Ridge на обучающей выборке (CV): \", best_r2_ridge)\n",
    "print(\"R2 для Ridge на тестовой выборке: \", r2_ridge_test)\n",
    "\n",
    "print(\"Лучший alpha для Lasso: \", best_alpha_lasso)\n",
    "print(\"Лучший R2 для Lasso на обучающей выборке (CV): \", best_r2_lasso)\n",
    "print(\"R2 для Lasso на тестовой выборке: \", r2_lasso_test)\n",
    "\n",
    "# Вывод результатов таблицы\n",
    "print(results_regression)\n",
    "\n",
    "\n",
    "### Ваш код ###\n",
    "\n",
    "r2_ridge_standart_scaler_cv = 0\n",
    "r2_ridge_min_max_scaler_cv = 0\n",
    "r2_lasso_standart_scaler_cv = 0\n",
    "r2_lasso_min_max_scaler_cv = 0\n",
    "results_regression.loc[11] = ['Ridge_StandardScaler_CV', 'task5', r2_ridge_standart_scaler_cv]\n",
    "results_regression.loc[12] = ['Ridge_MinMaxScaler_CV', 'task5', r2_ridge_min_max_scaler_cv]\n",
    "results_regression.loc[13] = ['Lasso_StandardScaler_CV', 'task5', r2_lasso_standart_scaler_cv]\n",
    "results_regression.loc[14] = ['Lasso_MinMaxScaler_CV', 'task5', r2_lasso_min_max_scaler_cv]"
   ]
  },
  {
   "cell_type": "markdown",
   "metadata": {},
   "source": [
    "6. Добавьте попарные произведения признаков и их квадраты (используйте PolynomialFeatures) на масштабированных признаках, посчитайте R2 для Ridge и Lasso с параметрами по умолчанию и сравните с предыдущими результатами."
   ]
  },
  {
   "cell_type": "code",
   "execution_count": 19,
   "metadata": {},
   "outputs": [
    {
     "name": "stdout",
     "output_type": "stream",
     "text": [
      "R² Ridge на обучающей выборке (CV): 0.7246186790549486\n",
      "R² Ridge на тестовой выборке: 0.6677355091197448\n",
      "R² Lasso на обучающей выборке (CV): 0.7245044930952103\n",
      "R² Lasso на тестовой выборке: 0.6684780921452501\n",
      "                      model   task        R2\n",
      "0                        LR  task2  0.000000\n",
      "1                     Ridge  task2  0.000000\n",
      "2                     Lasso  task2  0.000000\n",
      "3        Ridge_GridSearchCV  task3  0.000000\n",
      "4                   RidgeCV  task3  0.000000\n",
      "5        Lasso_GridSearchCV  task3  0.000000\n",
      "6                   LassoCV  task3  0.000000\n",
      "7      Ridge_StandardScaler  task4  0.000000\n",
      "8        Ridge_MinMaxScaler  task4  0.000000\n",
      "9      Lasso_StandardScaler  task4  0.000000\n",
      "10       Lasso_MinMaxScaler  task4  0.000000\n",
      "11  Ridge_StandardScaler_CV  task5  0.000000\n",
      "12    Ridge_MinMaxScaler_CV  task5  0.000000\n",
      "13               Ridge_Test  task6  0.667736\n",
      "14               Lasso_Test  task6  0.668478\n"
     ]
    }
   ],
   "source": [
    "from sklearn.linear_model import Ridge, Lasso\n",
    "from sklearn.model_selection import cross_val_score\n",
    "from sklearn.pipeline import make_pipeline\n",
    "from sklearn.preprocessing import StandardScaler\n",
    "import numpy as np\n",
    "\n",
    "# Создаем модели Ridge и Lasso с найденными в задании 5 значениями alpha\n",
    "ridge_model = make_pipeline(StandardScaler(), Ridge(alpha=best_alpha_ridge))\n",
    "lasso_model = make_pipeline(StandardScaler(), Lasso(alpha=best_alpha_lasso))\n",
    "\n",
    "# Обучение моделей на обучающей выборке\n",
    "ridge_model.fit(X_train, y_train)\n",
    "lasso_model.fit(X_train, y_train)\n",
    "\n",
    "# Оценка R² на обучающей выборке с использованием кросс-валидации (5-кратная кросс-валидация)\n",
    "ridge_r2_train_cv = np.mean(cross_val_score(ridge_model, X_train, y_train, cv=5, scoring='r2'))\n",
    "lasso_r2_train_cv = np.mean(cross_val_score(lasso_model, X_train, y_train, cv=5, scoring='r2'))\n",
    "\n",
    "# Оценка R² на тестовой выборке\n",
    "ridge_r2_test = ridge_model.score(X_test, y_test)\n",
    "lasso_r2_test = lasso_model.score(X_test, y_test)\n",
    "\n",
    "# Добавление результатов в таблицу\n",
    "results_regression.loc[13] = ['Ridge_Test', 'task6', ridge_r2_test]\n",
    "results_regression.loc[14] = ['Lasso_Test', 'task6', lasso_r2_test]\n",
    "\n",
    "# Вывод результатов\n",
    "print(\"R² Ridge на обучающей выборке (CV):\", ridge_r2_train_cv)\n",
    "print(\"R² Ridge на тестовой выборке:\", ridge_r2_test)\n",
    "print(\"R² Lasso на обучающей выборке (CV):\", lasso_r2_train_cv)\n",
    "print(\"R² Lasso на тестовой выборке:\", lasso_r2_test)\n",
    "\n",
    "# Вывод таблицы с результатами\n",
    "print(results_regression)\n",
    "\n",
    "\n",
    "### Ваш код ###\n",
    "\n",
    "r2_ridge_standart_scaler_poly = 0\n",
    "r2_ridge_min_max_scaler_poly = 0\n",
    "r2_lasso_standart_scaler_poly = 0\n",
    "r2_lasso_min_max_scaler_poly = 0\n",
    "results_regression.loc[15] = ['Ridge_StandardScaler_Poly', 'task6', r2_ridge_standart_scaler_poly]\n",
    "results_regression.loc[16] = ['Ridge_MinMaxScaler_Poly', 'task6', r2_ridge_min_max_scaler_poly]\n",
    "results_regression.loc[17] = ['Lasso_StandardScaler_Poly', 'task6', r2_lasso_standart_scaler_poly]\n",
    "results_regression.loc[18] = ['Lasso_MinMaxScaler_Poly', 'task6', r2_lasso_min_max_scaler_poly]"
   ]
  },
  {
   "cell_type": "markdown",
   "metadata": {},
   "source": [
    "7. Подберите коэффициент регуляризации для Ridge и Lasso на масштабированных данных, добавив PolynomialFeatures, посчитайте R2 и сравните с предыдущими результатами."
   ]
  },
  {
   "cell_type": "code",
   "execution_count": null,
   "metadata": {},
   "outputs": [],
   "source": [
    "\n",
    "\n",
    "### Ваш код ###\n",
    "\n",
    "r2_ridge_standart_scaler_poly_cv = 0\n",
    "r2_ridge_min_max_scaler_poly_cv = 0\n",
    "r2_lasso_standart_scaler_poly_cv = 0\n",
    "r2_lasso_min_max_scaler_poly_cv = 0\n",
    "results_regression.loc[19] = ['Ridge_StandardScaler_Poly_CV', 'task7', r2_ridge_standart_scaler_poly_cv]\n",
    "results_regression.loc[20] = ['Ridge_MinMaxScaler_Poly_CV', 'task7', r2_ridge_min_max_scaler_poly_cv]\n",
    "results_regression.loc[21] = ['Lasso_StandardScaler_Poly_CV', 'task7', r2_lasso_standart_scaler_poly_cv]\n",
    "results_regression.loc[22] = ['Lasso_MinMaxScaler_Poly_CV', 'task7', r2_lasso_min_max_scaler_poly_cv]"
   ]
  },
  {
   "cell_type": "markdown",
   "metadata": {},
   "source": [
    "8. Подберите наилучшую модель (используйте Pipeline, GridSearchSCV) подбирая тип регуляризации (L1,L2), коэффициент регуляризации, метод масштабирования и степень полинома в PolynomialFeatures. Выведите итоговые параметры и результат R2."
   ]
  },
  {
   "cell_type": "code",
   "execution_count": null,
   "metadata": {},
   "outputs": [],
   "source": [
    "\n",
    "\n",
    "### Ваш код ###\n",
    "\n",
    "best_params = {}\n",
    "print('Параметры лучшей модели:\\n', best_params)\n",
    "r2_best_model = 0\n",
    "results_regression.loc[23] = ['Best_Model', 'task8', r2_best_model]"
   ]
  },
  {
   "cell_type": "code",
   "execution_count": null,
   "metadata": {},
   "outputs": [],
   "source": []
  },
  {
   "cell_type": "code",
   "execution_count": null,
   "metadata": {},
   "outputs": [],
   "source": [
    "results_regression"
   ]
  },
  {
   "cell_type": "code",
   "execution_count": null,
   "metadata": {},
   "outputs": [],
   "source": []
  },
  {
   "cell_type": "markdown",
   "metadata": {},
   "source": [
    "http://archive.ics.uci.edu/ml/datasets/Adult"
   ]
  },
  {
   "cell_type": "code",
   "execution_count": null,
   "metadata": {},
   "outputs": [],
   "source": [
    "data = pd.read_csv('adult.csv')\n",
    "data.head()"
   ]
  },
  {
   "cell_type": "markdown",
   "metadata": {},
   "source": [
    "9. Разделите выборку на признаки и целевую переменную(колонка class). Замените целевую переменную на числовые значения ('<=50K' - 1, '>50K' - 0)."
   ]
  },
  {
   "cell_type": "code",
   "execution_count": null,
   "metadata": {},
   "outputs": [],
   "source": [
    "\n",
    "\n",
    "### Ваш код ###"
   ]
  },
  {
   "cell_type": "markdown",
   "metadata": {},
   "source": [
    "10. Посчитайте метрики accuracy и f1_score на предсказании только самого частого класса в целевой переменной."
   ]
  },
  {
   "cell_type": "code",
   "execution_count": null,
   "metadata": {},
   "outputs": [],
   "source": [
    "\n",
    "\n",
    "### Ваш код ###\n",
    "\n",
    "f1_most_frequent = 0\n",
    "acc_most_frequent = 0\n",
    "results_classification.loc[0] = ['Most Frequent class', 'task10', f1_most_frequent, acc_most_frequent]"
   ]
  },
  {
   "cell_type": "markdown",
   "metadata": {},
   "source": [
    "11. Выясните, присутствуют ли в данных пропуски. Если присутствуют, заполните их самыми частыми значениями (испольуйте SimpleImputer)"
   ]
  },
  {
   "cell_type": "code",
   "execution_count": null,
   "metadata": {},
   "outputs": [],
   "source": [
    "\n",
    "\n",
    "### Ваш код ###"
   ]
  },
  {
   "cell_type": "markdown",
   "metadata": {},
   "source": [
    "12. Выберите колонки с числовыми и категориальными переменными (используя возможности pandas)."
   ]
  },
  {
   "cell_type": "code",
   "execution_count": null,
   "metadata": {},
   "outputs": [],
   "source": [
    "\n",
    "\n",
    "### Ваш код ###"
   ]
  },
  {
   "cell_type": "markdown",
   "metadata": {},
   "source": [
    "13. Создайте пайплайн по обработке числовых и категориальных значений колонок (используйте OneHotEncoder,MinMaxScaler) и посчитайте cross_val_score по алгоритмам LogisticRegression, KNeighborsClassifier, LinearSVC по метрикам accuracy и f1_score."
   ]
  },
  {
   "cell_type": "code",
   "execution_count": null,
   "metadata": {},
   "outputs": [],
   "source": [
    "\n",
    "\n",
    "### Ваш код ###\n",
    "\n",
    "f1_LR = 0\n",
    "acc_LR = 0\n",
    "f1_KNN = 0\n",
    "acc_KNN = 0\n",
    "f1_SVM = 0\n",
    "acc_SVM = 0\n",
    "results_classification.loc[1] = ['LogisticRegression', 'task13', f1_LR, acc_LR]\n",
    "results_classification.loc[2] = ['KNeighborsClassifier', 'task13', f1_KNN, acc_KNN]\n",
    "results_classification.loc[3] = ['LinearSVC', 'task13', f1_SVM, acc_SVM]"
   ]
  },
  {
   "cell_type": "markdown",
   "metadata": {},
   "source": [
    "14. Можно заметить что в данных присутствуют значения '?', замените их самыми частыми значениями, (испольуйте SimpleImputer). Посчитайте cross_val_score по алгоритмам LogisticRegression, KNeighborsClassifier, LinearSVC по метрикам accuracy и f1_score."
   ]
  },
  {
   "cell_type": "code",
   "execution_count": null,
   "metadata": {},
   "outputs": [],
   "source": [
    "\n",
    "\n",
    "### Ваш код ###\n",
    "\n",
    "f1_LR = 0\n",
    "acc_LR = 0\n",
    "f1_KNN = 0\n",
    "acc_KNN = 0\n",
    "f1_SVM = 0\n",
    "acc_SVM = 0\n",
    "results_classification.loc[4] = ['LogisticRegression_impute', 'task14', f1_LR, acc_LR]\n",
    "results_classification.loc[5] = ['KNeighborsClassifier_impute', 'task14', f1_KNN, acc_KNN]\n",
    "results_classification.loc[6] = ['LinearSVC_impute', 'task14', f1_SVM, acc_SVM]"
   ]
  },
  {
   "cell_type": "markdown",
   "metadata": {},
   "source": [
    "15. Посчитайте cross_val_score по тем же алгоритмам и метрикам, если просто удалить значения '?'."
   ]
  },
  {
   "cell_type": "code",
   "execution_count": null,
   "metadata": {},
   "outputs": [],
   "source": [
    "\n",
    "\n",
    "### Ваш код ###\n",
    "\n",
    "f1_LR_del_missings = 0\n",
    "acc_LR_del_missings = 0\n",
    "f1_KNN_del_missings = 0\n",
    "acc_KNN_del_missings = 0\n",
    "f1_SVM_del_missings = 0\n",
    "acc_SVM_del_missings = 0\n",
    "results_classification.loc[7] = ['LogisticRegression_delete_missings', 'task15', f1_LR_del_missings, acc_LR_del_missings]\n",
    "results_classification.loc[8] = ['KNeighborsClassifier_delete_missings', 'task15', f1_KNN_del_missings, acc_KNN_del_missings]\n",
    "results_classification.loc[9] = ['LinearSVC_delete_missings', 'task15', f1_SVM_del_missings, acc_SVM_del_missings]"
   ]
  },
  {
   "cell_type": "markdown",
   "metadata": {},
   "source": [
    " 16. Посчитайте cross_val_score для RandomForestClassifier,GradientBoostingClassifier на данных с замененными значениями '?' на самые частые значения."
   ]
  },
  {
   "cell_type": "code",
   "execution_count": null,
   "metadata": {},
   "outputs": [],
   "source": [
    "\n",
    "\n",
    "### Ваш код ###\n",
    "\n",
    "f1_RF = 0\n",
    "acc_RF = 0\n",
    "f1_GB = 0\n",
    "acc_GB = 0\n",
    "results_classification.loc[10] = ['RandomForestClassifier', 'task16', f1_RF, acc_RF]\n",
    "results_classification.loc[11] = ['GradientBoostingClassifier', 'task16', f1_GB, acc_GB]"
   ]
  },
  {
   "cell_type": "markdown",
   "metadata": {},
   "source": [
    "17. Подберите наилучшую модель, подбирая методы обработки колонок - масштабирование признаков, кодирование признаков и заполнение пропусков. Параметры алгоритмов оставьте по умолчанию. Выведите итоговые параметры и результат accuracy и f1_score."
   ]
  },
  {
   "cell_type": "code",
   "execution_count": null,
   "metadata": {},
   "outputs": [],
   "source": [
    "\n",
    "\n",
    "### Ваш код ###\n",
    "\n",
    "best_params = {}\n",
    "print('Параметры лучшей модели:\\n', best_params)\n",
    "f1_best = 0\n",
    "acc_best = 0\n",
    "results_classification.loc[12] = ['Best_Model', 'task17', f1_best, acc_best]"
   ]
  },
  {
   "cell_type": "code",
   "execution_count": null,
   "metadata": {},
   "outputs": [],
   "source": []
  },
  {
   "cell_type": "code",
   "execution_count": null,
   "metadata": {},
   "outputs": [],
   "source": [
    "results_classification"
   ]
  },
  {
   "cell_type": "code",
   "execution_count": null,
   "metadata": {},
   "outputs": [],
   "source": []
  },
  {
   "cell_type": "code",
   "execution_count": null,
   "metadata": {},
   "outputs": [],
   "source": []
  },
  {
   "cell_type": "code",
   "execution_count": null,
   "metadata": {},
   "outputs": [],
   "source": []
  }
 ],
 "metadata": {
  "kernelspec": {
   "display_name": "Python 3 (ipykernel)",
   "language": "python",
   "name": "python3"
  },
  "language_info": {
   "codemirror_mode": {
    "name": "ipython",
    "version": 3
   },
   "file_extension": ".py",
   "mimetype": "text/x-python",
   "name": "python",
   "nbconvert_exporter": "python",
   "pygments_lexer": "ipython3",
   "version": "3.12.4"
  }
 },
 "nbformat": 4,
 "nbformat_minor": 4
}
