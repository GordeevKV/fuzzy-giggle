{
 "cells": [
  {
   "cell_type": "markdown",
   "id": "51a6a65f-4a30-4c77-957c-e9da977570f9",
   "metadata": {},
   "source": [
    "Задание 2: Экспериментальная вероятность выбора трех апельсинов"
   ]
  },
  {
   "cell_type": "code",
   "execution_count": 1,
   "id": "6539383c-b078-4a3a-b870-4b1961522e8a",
   "metadata": {},
   "outputs": [
    {
     "name": "stdout",
     "output_type": "stream",
     "text": [
      "Оцененная вероятность: 0.119\n"
     ]
    }
   ],
   "source": [
    "import numpy as np\n",
    "\n",
    "def simulate_fruit_selection():\n",
    "    # Инициализация параметров\n",
    "    appl = 5\n",
    "    orang = 4\n",
    "    fruit = [1] * appl + [0] * orang  # Создаем массив фруктов один раз\n",
    "    selection_count = 3\n",
    "    trials = 100000  # Количество симуляций\n",
    "\n",
    "    success_count = 0\n",
    "\n",
    "    for _ in range(trials):\n",
    "        np.random.shuffle(fruit)  # Перемешиваем фрукты\n",
    "\n",
    "        # Выбираем первые 3 фрукта и проверяем, все ли они апельсины\n",
    "        if all(fruit == 1 for fruit in fruit[:selection_count]):\n",
    "            success_count += 1\n",
    "\n",
    "    probability = success_count / trials\n",
    "    return probability\n",
    "\n",
    "# Запуск симуляции\n",
    "probability = simulate_fruit_selection()\n",
    "print(f\"Оцененная вероятность: {probability:.3f}\")\n",
    "\n"
   ]
  },
  {
   "cell_type": "code",
   "execution_count": null,
   "id": "c9f09433-6959-4330-9366-086edca78a92",
   "metadata": {},
   "outputs": [],
   "source": []
  }
 ],
 "metadata": {
  "kernelspec": {
   "display_name": "Python 3 (ipykernel)",
   "language": "python",
   "name": "python3"
  },
  "language_info": {
   "codemirror_mode": {
    "name": "ipython",
    "version": 3
   },
   "file_extension": ".py",
   "mimetype": "text/x-python",
   "name": "python",
   "nbconvert_exporter": "python",
   "pygments_lexer": "ipython3",
   "version": "3.12.4"
  }
 },
 "nbformat": 4,
 "nbformat_minor": 5
}
