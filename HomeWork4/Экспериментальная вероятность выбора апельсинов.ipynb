{
 "cells": [
  {
   "cell_type": "markdown",
   "id": "49a9ab77",
   "metadata": {},
   "source": [
    "# Задание 2: Экспериментальная вероятность выбора трех апельсинов"
   ]
  },
  {
   "cell_type": "code",
   "execution_count": 1,
   "id": "7b2d9716",
   "metadata": {},
   "outputs": [],
   "source": [
    "import numpy as np\n",
    "\n",
    "# Условия задачи\n",
    "total_fruits = 9  # n\n",
    "oranges = 5\n",
    "samples = 100000\n",
    "\n",
    "# Приведение samples к ближайшему числу, которое делится на (n-1)\n",
    "n_minus_1 = total_fruits - 1\n",
    "if samples % n_minus_1 != 0:\n",
    "    samples = (samples // n_minus_1) * n_minus_1\n",
    "    print(f'Число выборок изменено на {samples}, чтобы оно делилось на {n_minus_1}.')\n",
    "\n",
    "# Случайная выборка\n",
    "np.random.seed(42)\n",
    "choices = np.random.choice(['апельсин']*oranges + ['яблоко']*(total_fruits-oranges), (samples, 3))\n",
    "\n",
    "# Вероятность\n",
    "probability = np.mean(np.all(choices == 'апельсин', axis=1))\n",
    "print(f\"Экспериментальная вероятность, что все три фрукта – апельсины: {probability}\")\n",
    "\n",
    "# Сохранение результата\n",
    "output_file = 'C:/Users/285/Desktop/data_science/HomeWork4/Экспериментальная вероятность, что все три фрукта – апельсины.txt'\n",
    "with open(output_file, 'w') as f:\n",
    "    f.write(f\"Экспериментальная вероятность, что все три фрукта – апельсины: {probability}\")\n"
   ]
  }
 ],
 "metadata": {
  "kernelspec": {
   "display_name": "Python 3 (ipykernel)",
   "language": "python",
   "name": "python3"
  },
  "language_info": {
   "codemirror_mode": {
    "name": "ipython",
    "version": 3
   },
   "file_extension": ".py",
   "mimetype": "text/x-python",
   "name": "python",
   "nbconvert_exporter": "python",
   "pygments_lexer": "ipython3",
   "version": "3.12.4"
  }
 },
 "nbformat": 4,
 "nbformat_minor": 5
}