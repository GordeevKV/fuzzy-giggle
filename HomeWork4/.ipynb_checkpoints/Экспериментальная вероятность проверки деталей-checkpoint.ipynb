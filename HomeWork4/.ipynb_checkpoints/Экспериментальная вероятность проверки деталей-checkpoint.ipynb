{
 "cells": [
  {
   "cell_type": "markdown",
   "id": "49a9ab77",
   "metadata": {},
   "source": [
    "# Задание 3: Экспериментальная вероятность проверки двух деталей"
   ]
  },
  {
   "cell_type": "code",
   "execution_count": 1,
   "id": "cb61a539",
   "metadata": {},
   "outputs": [],
   "source": [
    "import numpy as np\n",
    "\n",
    "# Параметры\n",
    "total_parts = 10\n",
    "non_standard = 3\n",
    "samples = 100000\n",
    "\n",
    "np.random.seed(42)\n",
    "\n",
    "def check_parts():\n",
    "    parts = ['нестандартная']*non_standard + ['стандартная']*(total_parts-non_standard)\n",
    "    np.random.shuffle(parts)\n",
    "    for i, part in enumerate(parts):\n",
    "        if part == 'стандартная':\n",
    "            return i + 1\n",
    "\n",
    "outcomes = np.array([check_parts() for _ in range(samples)])\n",
    "probability = np.mean(outcomes == 2)\n",
    "print(f\"Экспериментальная вероятность, что мастер проверит ровно две детали: {probability}\")\n",
    "\n",
    "# Сохранение результата\n",
    "output_file = 'C:/Users/285/Desktop/data_science/HomeWork4/Экспериментальная вероятность, что мастер проверит ровно две детали.txt'\n",
    "with open(output_file, 'w') as f:\n",
    "    f.write(f\"Экспериментальная вероятность, что мастер проверит ровно две детали: {probability}\")\n"
   ]
  }
 ],
 "metadata": {
  "kernelspec": {
   "display_name": "Python 3 (ipykernel)",
   "language": "python",
   "name": "python3"
  },
  "language_info": {
   "codemirror_mode": {
    "name": "ipython",
    "version": 3
   },
   "file_extension": ".py",
   "mimetype": "text/x-python",
   "name": "python",
   "nbconvert_exporter": "python",
   "pygments_lexer": "ipython3",
   "version": "3.12.4"
  }
 },
 "nbformat": 4,
 "nbformat_minor": 5
}