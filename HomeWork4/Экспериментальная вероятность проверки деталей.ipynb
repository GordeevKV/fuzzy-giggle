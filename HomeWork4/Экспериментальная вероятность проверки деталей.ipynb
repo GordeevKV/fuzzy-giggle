{
 "cells": [
  {
   "cell_type": "markdown",
   "id": "49a9ab77",
   "metadata": {},
   "source": [
    "# Задание 3: Экспериментальная вероятность проверки двух деталей"
   ]
  },
  {
   "cell_type": "code",
   "execution_count": 2,
   "id": "b11a2669-30a4-4d18-b8ca-4977b827c4cf",
   "metadata": {},
   "outputs": [
    {
     "name": "stdout",
     "output_type": "stream",
     "text": [
      "Оцененная вероятность: 0.23125\n"
     ]
    }
   ],
   "source": [
    "import numpy as np\n",
    "\n",
    "def simulate_check():\n",
    "    # Инициализация параметров\n",
    "    total_details = 10\n",
    "    non_standard_count = 3\n",
    "    standard_count = total_details - non_standard_count\n",
    "    trials = 100000  # Количество симуляций\n",
    "\n",
    "    # Создаем массив деталей: 3 нестандартные (1) и 7 стандартные (0)\n",
    "    details = [1] * non_standard_count + [0] * standard_count\n",
    "\n",
    "    success_count = 0\n",
    "\n",
    "    for _ in range(trials):\n",
    "        np.random.shuffle(details)  # Перемешиваем детали\n",
    "\n",
    "        # Проверяем первые две детали\n",
    "        if details[0] == 1 and details[1] == 0:\n",
    "            success_count += 1\n",
    "\n",
    "    probability = success_count / trials\n",
    "    return probability\n",
    "\n",
    "# Запуск симуляции\n",
    "probability = simulate_check()\n",
    "print(f\"Оцененная вероятность: {probability:.5f}\")\n",
    "\n"
   ]
  },
  {
   "cell_type": "code",
   "execution_count": null,
   "id": "b3d027b7-2f9e-4c7f-9ccf-76788e807812",
   "metadata": {},
   "outputs": [],
   "source": []
  }
 ],
 "metadata": {
  "kernelspec": {
   "display_name": "Python 3 (ipykernel)",
   "language": "python",
   "name": "python3"
  },
  "language_info": {
   "codemirror_mode": {
    "name": "ipython",
    "version": 3
   },
   "file_extension": ".py",
   "mimetype": "text/x-python",
   "name": "python",
   "nbconvert_exporter": "python",
   "pygments_lexer": "ipython3",
   "version": "3.12.4"
  }
 },
 "nbformat": 4,
 "nbformat_minor": 5
}
